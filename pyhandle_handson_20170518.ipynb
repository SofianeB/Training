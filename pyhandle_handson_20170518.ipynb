{
 "cells": [
  {
   "cell_type": "raw",
   "metadata": {},
   "source": []
  },
  {
   "cell_type": "code",
   "execution_count": null,
   "metadata": {
    "collapsed": true
   },
   "outputs": [],
   "source": []
  },
  {
   "cell_type": "code",
   "execution_count": null,
   "metadata": {
    "collapsed": true
   },
   "outputs": [],
   "source": []
  },
  {
   "cell_type": "code",
   "execution_count": null,
   "metadata": {
    "collapsed": true
   },
   "outputs": [],
   "source": [
    "Using PyHandle\n",
    "==============\n",
    "\n",
    "Training material for ...  in Barcelona.\n",
    "\n",
    "Sofiane Bendoukha, May 2017\n",
    "\n",
    "What is PyHandle?\n",
    "-----------------\n",
    "\n",
    "> The PyHandle Python library is a client library for interaction with a Handle System server, using the native REST interface introduced in Handle System 8. The library offers methods to create, update and delete Handles as well as advanced functionality such as searching over Handles using an additional search servlet and managing multiple location entries per Handle.\n",
    "\n",
    "> It also allows to interact with database hosting the handle records (out of scope of this training).\n",
    "\n",
    "> In this training, we will the use the PyHandle pre-release.\n",
    "\n",
    "\n",
    "Preparation for this training\n",
    "-------------------------\n",
    "\n",
    "**Requirements**\n",
    "\n",
    "The library currently supports Python 2.6, Python 2.7 and Python 3.5 and requires access to a Handle System server (at \n",
    "least version 8.1). The library requires OpenSSL v1.0.1 or higher.\n",
    "\n",
    "**Getting pyhandle**\n",
    "\n",
    "* > You can get PyHandle from GITHUB (soon on PyPi).\n",
    "  > git clone https://github.com/EUDAT-B2SAFE/PYHANDLE.git\n",
    "\n",
    "\n",
    "**Install your own Jupyter Notebook (and pyhandle) **\n",
    "\n",
    "Linux:\n",
    "\n",
    "~~~\n",
    "# Download conda\n",
    "wget https://repo.continuum.io/miniconda/Miniconda2-latest-Linux-x86_64.sh\n",
    "\n",
    "# Run the installer\n",
    "bash /home/.../Downloads/Miniconda2-latest-Linux-x86_64.sh\n",
    "\n",
    "# Create a virtual environment and activate it:\n",
    "se\n",
    "\n",
    "source activate rda_may2016\n",
    "\n",
    "# Install jupyter:\n",
    "conda install jupyter\n",
    "\n",
    "# Install pyhandle:\n",
    "cd ~/rda_hh_2016/library/pyhandle-0.0.1rc0/\n",
    "python setup.py install\n",
    "\n",
    "# Run the notebook:\n",
    "jupyter notebook\n",
    "~~~\n",
    "\n",
    "Other systems:\n",
    "On windows, the steps are very similar. For the detailed instructions, please see the slides."
   ]
  },
  {
   "cell_type": "code",
   "execution_count": null,
   "metadata": {
    "collapsed": true
   },
   "outputs": [],
   "source": [
    "Using PyHandle\n",
    "==============\n",
    "\n",
    "Training material for ...  in Barcelona.\n",
    "\n",
    "Sofiane Bendoukha, May 2017\n",
    "\n",
    "What is PyHandle?\n",
    "-----------------\n",
    "\n",
    "> The PyHandle Python library is a client library for interaction with a Handle System server, using the native REST interface introduced in Handle System 8. The library offers methods to create, update and delete Handles as well as advanced functionality such as searching over Handles using an additional search servlet and managing multiple location entries per Handle.\n",
    "\n",
    "> It also allows to interact with database hosting the handle records (out of scope of this training).\n",
    "\n",
    "> In this training, we will the use the PyHandle pre-release.\n",
    "\n",
    "\n",
    "Preparation for this training\n",
    "-------------------------\n",
    "\n",
    "**Requirements**\n",
    "\n",
    "The library currently supports Python 2.6, Python 2.7 and Python 3.5 and requires access to a Handle System server (at \n",
    "least version 8.1). The library requires OpenSSL v1.0.1 or higher.\n",
    "\n",
    "**Getting pyhandle**\n",
    "\n",
    "* > You can get PyHandle from GITHUB (soon on PyPi).\n",
    "  * git clone https://github.com/EUDAT-B2SAFE/PYHANDLE.git\n",
    "* cd PYHANDLE\n",
    "\n",
    "\n",
    "\n",
    "**Install your own Jupyter Notebook (and pyhandle) **\n",
    "\n",
    "Linux:\n",
    "\n",
    "~~~\n",
    "# Download conda\n",
    "wget https://repo.continuum.io/miniconda/Miniconda2-latest-Linux-x86_64.sh\n",
    "\n",
    "# Run the installer\n",
    "bash /home/.../Downloads/Miniconda2-latest-Linux-x86_64.sh\n",
    "\n",
    "# Create a virtual environment and activate it:\n",
    "se\n",
    "\n",
    "source activate rda_may2016\n",
    "\n",
    "# Install jupyter:\n",
    "conda install jupyter\n",
    "\n",
    "# Install pyhandle:\n",
    "cd ~/rda_hh_2016/library/pyhandle-0.0.1rc0/\n",
    "python setup.py install\n",
    "\n",
    "# Run the notebook:\n",
    "jupyter notebook\n",
    "~~~\n",
    "\n",
    "Other systems:\n",
    "On windows, the steps are very similar. For the detailed instructions, please see the slides."
   ]
  },
  {
   "cell_type": "code",
   "execution_count": null,
   "metadata": {
    "collapsed": true
   },
   "outputs": [],
   "source": []
  },
  {
   "cell_type": "code",
   "execution_count": null,
   "metadata": {
    "collapsed": true
   },
   "outputs": [],
   "source": []
  },
  {
   "cell_type": "code",
   "execution_count": null,
   "metadata": {
    "collapsed": true
   },
   "outputs": [],
   "source": []
  },
  {
   "cell_type": "markdown",
   "metadata": {},
   "source": [
    "(1) Import\n",
    "==========\n",
    "\n",
    "First, we have to import the PyHandle library. The library is used by creating a client object and using its methods to interact with the Global Handle System.\n",
    "\n",
    "The object that we are going to interact with is called the `Client`, so let's import it directly."
   ]
  },
  {
   "cell_type": "code",
   "execution_count": 1,
   "metadata": {
    "scrolled": false
   },
   "outputs": [],
   "source": [
    "#from b2handle.handleclient import HandleClient as Client"
   ]
  },
  {
   "cell_type": "markdown",
   "metadata": {},
   "source": [
    "(If you use B2Handle 1.0.x, use this import statement instead:)"
   ]
  },
  {
   "cell_type": "code",
   "execution_count": 3,
   "metadata": {
    "collapsed": true
   },
   "outputs": [],
   "source": [
    "from b2handle.handleclient import EUDATHandleClient as Client"
   ]
  },
  {
   "cell_type": "markdown",
   "metadata": {},
   "source": [
    "The help() method gives us useful information about its methods."
   ]
  },
  {
   "cell_type": "code",
   "execution_count": 4,
   "metadata": {},
   "outputs": [],
   "source": [
    "# help(Client) # Attention, this gives a long result!"
   ]
  },
  {
   "cell_type": "markdown",
   "metadata": {},
   "source": [
    "> Task 1a: Import pyhandle from the provided egg.\n",
    "\n",
    "> Task 1b: Use the help() function to find out which methods the Client provides.\n",
    "\n",
    "\n",
    "(2) Resolving handles\n",
    "=================\n",
    "\n",
    "It is easy to resolve a handle and read its handle record using the Pyhandle library. For this, we instantiate the client in read-mode and use its reading methods.\n",
    "\n",
    "(2.1) Instantiation of the client\n",
    "---------------------------\n",
    "\n",
    "For using the client in read-only mode, no further information is necessary. It works out-of-the-box:"
   ]
  },
  {
   "cell_type": "code",
   "execution_count": 6,
   "metadata": {},
   "outputs": [],
   "source": []
  },
  {
   "cell_type": "markdown",
   "metadata": {},
   "source": [
    "Now we can use its various reading methods, for example `get_value_from_handle(handle)` or `retrieve_handle_record(handle)`.\n",
    "\n",
    "For example, `retrieve_handle_record(handle)` returns a dictionary of the record's entries:"
   ]
  },
  {
   "cell_type": "code",
   "execution_count": 5,
   "metadata": {},
   "outputs": [
    {
     "name": "stdout",
     "output_type": "stream",
     "text": [
      "<type 'dict'>\n"
     ]
    }
   ],
   "source": [
    "handle = '21.T14998/TEST'\n",
    "record = client.retrieve_handle_record(handle)\n",
    "print type(record)"
   ]
  },
  {
   "cell_type": "code",
   "execution_count": 6,
   "metadata": {},
   "outputs": [
    {
     "name": "stdout",
     "output_type": "stream",
     "text": [
      "{u'URL': 'http://www.dkrz.de', u'VERSION_NUMBER': '1', u'HS_ADMIN': \"{u'index': 200, u'handle': u'0.NA/21.T14998', u'permissions': u'011111110011'}\", u'IS_PART_OF': 'blablabla'}\n"
     ]
    }
   ],
   "source": [
    "print record"
   ]
  },
  {
   "cell_type": "markdown",
   "metadata": {},
   "source": [
    "But it's nicer to pretty-print the record:"
   ]
  },
  {
   "cell_type": "code",
   "execution_count": 8,
   "metadata": {},
   "outputs": [],
   "source": [
    "#pretty_record = client.pretty_print_handle_record(handle)\n",
    "#print pretty_record"
   ]
  },
  {
   "cell_type": "raw",
   "metadata": {},
   "source": [
    "We can access individual values using:"
   ]
  },
  {
   "cell_type": "code",
   "execution_count": 10,
   "metadata": {},
   "outputs": [
    {
     "name": "stdout",
     "output_type": "stream",
     "text": [
      "http://www.dkrz.de\n",
      "blablabla\n"
     ]
    }
   ],
   "source": [
    "value1 = client.get_value_from_handle(handle, 'URL')\n",
    "value2 = client.get_value_from_handle(handle, 'IS_PART_OF')\n",
    "print value1\n",
    "print value2"
   ]
  },
  {
   "cell_type": "markdown",
   "metadata": {},
   "source": [
    "> Task 2.1a: Instantiate the pyhandle client for read-only access.\n",
    "\n",
    "> Task 2.1b: Retrieve entire record of handle *10876.test/rdapidxyz* as a dictionary.\n",
    "\n",
    "> Task 2.1c: Retrieve a single handle value from the record.\n",
    "\n",
    "> Task 2.1d: Pretty-print the handle record.\n",
    "\n",
    "> Task 2.1e: [advanced] Pretty-print the handle record including the handle record indices. Hint: with_index=True\n",
    "\n",
    "\n",
    "(2.2) Decrease server interactions [optional]\n",
    "---------------------------------------------\n",
    "\n",
    "The method `get_value_from_handle()` accesses the Handle Server each time. This is a performance slowdown. To avoid it, it is possible to retrieve the record once and then pass it on to the reading methods.\n",
    "\n",
    "This retrieves the record from the server:"
   ]
  },
  {
   "cell_type": "code",
   "execution_count": 11,
   "metadata": {
    "collapsed": true
   },
   "outputs": [],
   "source": [
    "record_json = client.retrieve_handle_record_json(handle)"
   ]
  },
  {
   "cell_type": "markdown",
   "metadata": {},
   "source": [
    "If you pass it to the reading methods, these do not access the Handle Server anymore:"
   ]
  },
  {
   "cell_type": "code",
   "execution_count": 14,
   "metadata": {
    "scrolled": false
   },
   "outputs": [],
   "source": [
    "#print client.pretty_print_handle_record(handle, record_json)"
   ]
  },
  {
   "cell_type": "code",
   "execution_count": 15,
   "metadata": {},
   "outputs": [
    {
     "name": "stdout",
     "output_type": "stream",
     "text": [
      "None\n"
     ]
    }
   ],
   "source": [
    "print client.get_value_from_handle(handle, 'CREATION_DATE', record_json)"
   ]
  },
  {
   "cell_type": "markdown",
   "metadata": {},
   "source": [
    "> Task 2.2: Retrieve the handle record as a json object and use the read methods without accessing the Handle Server\n",
    "\n",
    "\n",
    "(3) Updating handle records\n",
    "=======================\n",
    "\n",
    "Now we'd like to modify one of the values of that handle record. The client provides a method for this: `modify_handle_value(handle, ...)`.\n",
    "\n",
    "Let's try it - let's change the creation date from '2016-05-24' to '2016-05-25':\n",
    "[Attention - this command will throw an error, this is expected!]"
   ]
  },
  {
   "cell_type": "code",
   "execution_count": 7,
   "metadata": {},
   "outputs": [
    {
     "ename": "NameError",
     "evalue": "name 'handle' is not defined",
     "output_type": "error",
     "traceback": [
      "\u001b[0;31m---------------------------------------------------------------------------\u001b[0m",
      "\u001b[0;31mNameError\u001b[0m                                 Traceback (most recent call last)",
      "\u001b[0;32m<ipython-input-7-b6283e578892>\u001b[0m in \u001b[0;36m<module>\u001b[0;34m()\u001b[0m\n\u001b[0;32m----> 1\u001b[0;31m \u001b[0mclient\u001b[0m\u001b[0;34m.\u001b[0m\u001b[0mmodify_handle_value\u001b[0m\u001b[0;34m(\u001b[0m\u001b[0mhandle\u001b[0m\u001b[0;34m,\u001b[0m \u001b[0mCREATION_DATE\u001b[0m\u001b[0;34m=\u001b[0m\u001b[0;34m'2016-05-25'\u001b[0m\u001b[0;34m)\u001b[0m\u001b[0;34m\u001b[0m\u001b[0m\n\u001b[0m",
      "\u001b[0;31mNameError\u001b[0m: name 'handle' is not defined"
     ]
    }
   ],
   "source": [
    "client.modify_handle_value(handle, CREATION_DATE='2016-05-25')"
   ]
  },
  {
   "cell_type": "markdown",
   "metadata": {},
   "source": [
    "Ups - that did not work. It tells us *'HandleAuthenticationError: Insufficient permission: No credentials passed. Read access only.'*.\n",
    "\n",
    "(3.1) Write access to a Handle Server\n",
    "-------------------------------------\n",
    "\n",
    "For modifying/creating/reading handle records, we first need to authenticate. In this tutorial, we will use a username and a password. (There is other methods, e.g. using client certificates.)"
   ]
  },
  {
   "cell_type": "code",
   "execution_count": 1,
   "metadata": {
    "collapsed": true
   },
   "outputs": [],
   "source": [
    "user = 'f'\n",
    "pw = 'lunchbreak'"
   ]
  },
  {
   "cell_type": "markdown",
   "metadata": {},
   "source": [
    "Also, we need to specify the URL of a handle server to write to. It is not possible to write to the Global Handle Server. For each prefix, there is only one server with write access."
   ]
  },
  {
   "cell_type": "code",
   "execution_count": 2,
   "metadata": {
    "collapsed": true
   },
   "outputs": [],
   "source": [
    "url = 'https://handle8.dkrz.de'"
   ]
  },
  {
   "cell_type": "markdown",
   "metadata": {},
   "source": [
    "This server is the write server for the test prefix we are going to use:"
   ]
  },
  {
   "cell_type": "code",
   "execution_count": 15,
   "metadata": {
    "collapsed": true
   },
   "outputs": [],
   "source": [
    "prefix = '10876.test'"
   ]
  },
  {
   "cell_type": "markdown",
   "metadata": {},
   "source": [
    "For providing these necessary configuration values, we can use the following method to create our client object:"
   ]
  },
  {
   "cell_type": "code",
   "execution_count": 16,
   "metadata": {},
   "outputs": [
    {
     "name": "stderr",
     "output_type": "stream",
     "text": [
      "/root/miniconda2/envs/jupytervenv/lib/python2.7/site-packages/requests/packages/urllib3/connectionpool.py:821: InsecureRequestWarning: Unverified HTTPS request is being made. Adding certificate verification is strongly advised. See: https://urllib3.readthedocs.org/en/latest/security.html\n",
      "  InsecureRequestWarning)\n"
     ]
    }
   ],
   "source": [
    "client = Client.instantiate_with_username_and_password(url, user, pw, HTTPS_verify=False)"
   ]
  },
  {
   "cell_type": "markdown",
   "metadata": {},
   "source": [
    "> Task 3.1: Instantiate the client for write access, using the above username and password.\n",
    "\n",
    "(3.2) Modifying handle records\n",
    "-------------------------------\n",
    "\n",
    "### Modify existing values\n",
    "\n",
    "Now we can try to modify again:"
   ]
  },
  {
   "cell_type": "code",
   "execution_count": 17,
   "metadata": {},
   "outputs": [],
   "source": [
    "client.modify_handle_value(handle, CREATION_DATE='2016-05-25')"
   ]
  },
  {
   "cell_type": "markdown",
   "metadata": {},
   "source": [
    "Did it work? Let's check!"
   ]
  },
  {
   "cell_type": "code",
   "execution_count": 18,
   "metadata": {},
   "outputs": [
    {
     "name": "stdout",
     "output_type": "stream",
     "text": [
      "2016-05-25\n"
     ]
    }
   ],
   "source": [
    "print client.get_value_from_handle(handle, 'CREATION_DATE')"
   ]
  },
  {
   "cell_type": "markdown",
   "metadata": {},
   "source": [
    "### Adding new values\n",
    "With the same method, we can add new values to a handle record:"
   ]
  },
  {
   "cell_type": "code",
   "execution_count": 19,
   "metadata": {},
   "outputs": [
    {
     "name": "stdout",
     "output_type": "stream",
     "text": [
      "**********************************************************************\n",
      "* 10876.test/rdapidxyz                                               *\n",
      "**********************************************************************\n",
      "* PLEASE_ADD_ME : added value                                        *\n",
      "* CREATION_DATE : 2016-05-25                                         *\n",
      "* URL           : http://dkrz.de                                     *\n",
      "* VERSION_NUMBER: 1                                                  *\n",
      "* IS_PART_OF    : 10876.test/rdapid44645074-667d-468f-92ca-b73ab ... *\n",
      "**********************************************************************\n"
     ]
    }
   ],
   "source": [
    "client.modify_handle_value(handle, PLEASE_ADD_ME='added value')\n",
    "print client.pretty_print_handle_record(handle)"
   ]
  },
  {
   "cell_type": "markdown",
   "metadata": {},
   "source": [
    "To prevent adding new values (for example in case of typos) we can set a flag:"
   ]
  },
  {
   "cell_type": "code",
   "execution_count": 20,
   "metadata": {},
   "outputs": [
    {
     "name": "stdout",
     "output_type": "stream",
     "text": [
      "**********************************************************************\n",
      "* 10876.test/rdapidxyz                                               *\n",
      "**********************************************************************\n",
      "* CREATION_DATE : 2016-05-26                                         *\n",
      "* PLEASE_ADD_ME : added value                                        *\n",
      "* URL           : http://dkrz.de                                     *\n",
      "* VERSION_NUMBER: 1                                                  *\n",
      "* IS_PART_OF    : 10876.test/rdapid44645074-667d-468f-92ca-b73ab ... *\n",
      "**********************************************************************\n"
     ]
    }
   ],
   "source": [
    "client.modify_handle_value(handle, CREATION_DATE='2016-05-26', add_if_not_exist=False)\n",
    "client.modify_handle_value(handle, RCEATION_DATE='2016-05-27', add_if_not_exist=False)\n",
    "print client.pretty_print_handle_record(handle)"
   ]
  },
  {
   "cell_type": "markdown",
   "metadata": {},
   "source": [
    "### Deleting values\n",
    "In case we did not set that flag and accidentally wrote a wrong entry, the `delete_handle_value()` method allows to delete that entry:"
   ]
  },
  {
   "cell_type": "code",
   "execution_count": 21,
   "metadata": {},
   "outputs": [
    {
     "name": "stdout",
     "output_type": "stream",
     "text": [
      "Added wrong value:\n",
      "2016-05-28\n",
      "Deleted wrong value:\n",
      "None\n"
     ]
    }
   ],
   "source": [
    "client.modify_handle_value(handle, RCEATION_DATE='2016-05-28')\n",
    "\n",
    "print 'Added wrong value:'\n",
    "print client.get_value_from_handle(handle, 'RCEATION_DATE')\n",
    "\n",
    "client.delete_handle_value(handle, 'RCEATION_DATE')\n",
    "\n",
    "print 'Deleted wrong value:'\n",
    "print client.get_value_from_handle(handle, 'RCEATION_DATE')"
   ]
  },
  {
   "cell_type": "markdown",
   "metadata": {},
   "source": [
    "> Task 3.2a: Modify an existing handle value in your test handle `10876.test/rdapid[xyz]` (with [xyz] being your assigned number).\n",
    "\n",
    "> Task 3.2b: Attempt to modify handle value that does not exist yet and prevent the library from creating it.\n",
    "\n",
    "> Task 3.2c: Add a handle value to the handle record.\n",
    "\n",
    "> Task 3.2d: Add several new handle values to the handle record at the same time (with one command).\n",
    "\n",
    "> Task 3.2e: Delete one of the handle values previously added.\n",
    "\n",
    "(4) Registering handles (creating handle records)\n",
    "=================================================\n",
    "\n",
    "In their most simple form, PIDs are simple redirection to a URL. In this case, all they have is an entry that stores the URL. You can simply create such a handle using the method `register_handle()`:"
   ]
  },
  {
   "cell_type": "code",
   "execution_count": 22,
   "metadata": {},
   "outputs": [
    {
     "ename": "HandleAlreadyExistsException",
     "evalue": "Handle 10876.test/myhandle already exists: Could not register handle.",
     "output_type": "error",
     "traceback": [
      "\u001b[1;31m---------------------------------------------------------------------------\u001b[0m",
      "\u001b[1;31mHandleAlreadyExistsException\u001b[0m              Traceback (most recent call last)",
      "\u001b[1;32m<ipython-input-22-5d75c0988801>\u001b[0m in \u001b[0;36m<module>\u001b[1;34m()\u001b[0m\n\u001b[0;32m      1\u001b[0m \u001b[0mnewhandle\u001b[0m \u001b[1;33m=\u001b[0m \u001b[0mprefix\u001b[0m\u001b[1;33m+\u001b[0m\u001b[1;34m'/myhandle'\u001b[0m\u001b[1;33m\u001b[0m\u001b[0m\n\u001b[0;32m      2\u001b[0m \u001b[0murl\u001b[0m \u001b[1;33m=\u001b[0m \u001b[1;34m'www.dkrz.de'\u001b[0m\u001b[1;33m\u001b[0m\u001b[0m\n\u001b[1;32m----> 3\u001b[1;33m \u001b[0mclient\u001b[0m\u001b[1;33m.\u001b[0m\u001b[0mregister_handle\u001b[0m\u001b[1;33m(\u001b[0m\u001b[0mnewhandle\u001b[0m\u001b[1;33m,\u001b[0m \u001b[0murl\u001b[0m\u001b[1;33m)\u001b[0m\u001b[1;33m\u001b[0m\u001b[0m\n\u001b[0m",
      "\u001b[1;32m/root/miniconda2/envs/jupytervenv/lib/python2.7/site-packages/pyhandle-0.0.1rc0-py2.7.egg/pyhandle/handleclient.pyc\u001b[0m in \u001b[0;36mregister_handle\u001b[1;34m(self, handle, location, checksum, additional_URLs, overwrite, **extratypes)\u001b[0m\n\u001b[0;32m    826\u001b[0m                 \u001b[0mmsg\u001b[0m \u001b[1;33m=\u001b[0m \u001b[1;34m'Could not register handle'\u001b[0m\u001b[1;33m\u001b[0m\u001b[0m\n\u001b[0;32m    827\u001b[0m                 \u001b[0mLOGGER\u001b[0m\u001b[1;33m.\u001b[0m\u001b[0merror\u001b[0m\u001b[1;33m(\u001b[0m\u001b[0mmsg\u001b[0m\u001b[1;33m+\u001b[0m\u001b[1;34m', as it already exists.'\u001b[0m\u001b[1;33m)\u001b[0m\u001b[1;33m\u001b[0m\u001b[0m\n\u001b[1;32m--> 828\u001b[1;33m                 \u001b[1;32mraise\u001b[0m \u001b[0mHandleAlreadyExistsException\u001b[0m\u001b[1;33m(\u001b[0m\u001b[0mhandle\u001b[0m\u001b[1;33m=\u001b[0m\u001b[0mhandle\u001b[0m\u001b[1;33m,\u001b[0m \u001b[0mmsg\u001b[0m\u001b[1;33m=\u001b[0m\u001b[0mmsg\u001b[0m\u001b[1;33m)\u001b[0m\u001b[1;33m\u001b[0m\u001b[0m\n\u001b[0m\u001b[0;32m    829\u001b[0m \u001b[1;33m\u001b[0m\u001b[0m\n\u001b[0;32m    830\u001b[0m         \u001b[1;31m# Create admin entry\u001b[0m\u001b[1;33m\u001b[0m\u001b[1;33m\u001b[0m\u001b[0m\n",
      "\u001b[1;31mHandleAlreadyExistsException\u001b[0m: Handle 10876.test/myhandle already exists: Could not register handle."
     ]
    }
   ],
   "source": [
    "newhandle = prefix+'/myhandle'\n",
    "url = 'www.dkrz.de'\n",
    "client.register_handle(newhandle, url)"
   ]
  },
  {
   "cell_type": "markdown",
   "metadata": {},
   "source": [
    "If we execute this code a second time - or if another participant of the course has already executed it -, we run into an error: \"HandleAlreadyExistsException\". Of course - that handle record has already been created!\n",
    "If we are really sure we would like to overwrite it, we can specify this:"
   ]
  },
  {
   "cell_type": "code",
   "execution_count": 23,
   "metadata": {},
   "outputs": [
    {
     "data": {
      "text/plain": [
       "u'10876.test/myhandle'"
      ]
     },
     "execution_count": 23,
     "metadata": {},
     "output_type": "execute_result"
    }
   ],
   "source": [
    "client.register_handle(newhandle, url, overwrite=True)"
   ]
  },
  {
   "cell_type": "markdown",
   "metadata": {},
   "source": [
    "To avoid running into this problem and having to decide whether to overwrite or not, it is always preferrable to use UUIDs as handle suffixes. Using \"speaking names\", i.e. suffixes with semantics, is strongly discouraged.\n",
    "\n",
    "The library provides an easy way to generate such a handle name. In this case, don't forget to store the handle name in a variable for further use."
   ]
  },
  {
   "cell_type": "code",
   "execution_count": 24,
   "metadata": {
    "scrolled": true
   },
   "outputs": [
    {
     "name": "stdout",
     "output_type": "stream",
     "text": [
      "10876.test/c8c2ab00-0414-45d5-89d2-af888456d221\n"
     ]
    }
   ],
   "source": [
    "uuidhandle = client.generate_PID_name(prefix)\n",
    "print uuidhandle"
   ]
  },
  {
   "cell_type": "markdown",
   "metadata": {},
   "source": [
    "And it's even easier to generate the name and register the handle at the same time. Again, don't forget to store the name."
   ]
  },
  {
   "cell_type": "code",
   "execution_count": 25,
   "metadata": {},
   "outputs": [
    {
     "name": "stdout",
     "output_type": "stream",
     "text": [
      "10876.test/d39f01df-43fd-4b49-a2b4-bfa6910c7927\n"
     ]
    }
   ],
   "source": [
    "uuidhandle = client.generate_and_register_handle(prefix, url)\n",
    "print uuidhandle"
   ]
  },
  {
   "cell_type": "markdown",
   "metadata": {},
   "source": [
    "We can check the contents of this newly created handle record:"
   ]
  },
  {
   "cell_type": "code",
   "execution_count": 26,
   "metadata": {},
   "outputs": [
    {
     "name": "stdout",
     "output_type": "stream",
     "text": [
      "***************************************************\n",
      "* 10876.test/d39f01df-43fd-4b49-a2b4-bfa6910c7927 *\n",
      "***************************************************\n",
      "* URL: www.dkrz.de                                *\n",
      "***************************************************\n"
     ]
    }
   ],
   "source": [
    "print client.pretty_print_handle_record(uuidhandle)"
   ]
  },
  {
   "cell_type": "markdown",
   "metadata": {},
   "source": [
    "> Task 4a: Register a handle with a uuid name and a simple record (containing just a URL).\n",
    "\n",
    "> Task 4b: Add a value to it.\n",
    "\n",
    "> Task 4c: Register a handle with a uuid name and several values at the same time.\n",
    "\n",
    "(5) Authentication - how does it work?\n",
    "======================================\n",
    "\n",
    "(5.1) Username and password\n",
    "----------------------------\n",
    "\n",
    "Above, we have seen authentication using a username and a password. The username was `300:10876.test/USERLIST`, where `10876.test/USERLIST` is a handle under the `10876.test` prefix, and 300 is an index value to point to a specific entry in this handle.\n",
    "Let's have a look at this handle:"
   ]
  },
  {
   "cell_type": "code",
   "execution_count": 27,
   "metadata": {},
   "outputs": [
    {
     "name": "stdout",
     "output_type": "stream",
     "text": [
      "*********************************************************************\n",
      "* 10876.test/USERLIST                                               *\n",
      "*********************************************************************\n",
      "* 100: HS_ADMIN: {u'index': 201, u'handle': u'10876.TEST/ADMIN' ... *\n",
      "*********************************************************************\n"
     ]
    }
   ],
   "source": [
    "adminhandle = '10876.test/USERLIST'\n",
    "adminrecord = client.retrieve_handle_record_json(adminhandle)\n",
    "print client.pretty_print_handle_record(adminhandle, adminrecord, print_special_types=True, with_index=True)"
   ]
  },
  {
   "cell_type": "markdown",
   "metadata": {},
   "source": [
    "We see no entry with index 300. This is because it's hidden, and this is because it is our password. If it was not hidden, the record would look as follows:\n",
    "\n",
    "~~~\n",
    "*********************************************************************\n",
    "* 10876.test/USERLIST                                               *\n",
    "*********************************************************************\n",
    "* 100: HS_ADMIN: {u'index': 201, u'handle': u'10876.TEST/ADMIN' ... *\n",
    "* 300: HS_VLIST: lunchbreak                                         *\n",
    "* 301: HS_VLIST: coffeebreak                                        *\n",
    "*********************************************************************\n",
    "~~~\n",
    "\n",
    "The entry with index 300 is of the type \"HS_SECKEY\" and contains our password.\n",
    "\n",
    "(5.2) Authentication using client certificates [OPTIONAL]\n",
    "==============================================\n",
    "\n",
    "There is an alternative to using password, which is more secure, which is using client-side certificates. For this, the user provides his private key and his certificate with every write request. (Advanced: Creating the key pair and the certificate file in the required format and with the required information is out of scope here. Please check out B2Handle documentation).\n",
    "\n",
    "### How does it work?\n",
    "\n",
    "Similar to above, where the username points to \"HS_SECKEY\", where the password is stored, the username now points to an entry of type \"HS_PUBKEY\", where the public key is stored. The handle record above contains various of such public keys.\n",
    "\n",
    "NOTE:\n",
    "Usernames in the handle systems are strings of the form \"index:prefix/suffix\" pointing to an entry of type \"HS_SECKEY\" containing the password of that user, or to an entry \"HS_PUBKEY\" containing the public key of that user.\n",
    "\n",
    "### Usage of client-side certificates\n",
    "\n",
    "To use client-side certificates for authentication, the user has to pass a certificate and a private key along with every write request. Just like the password authentication, the library handles this for the user.\n",
    "\n",
    "For this, the library either needs a file containing private key and certificate, or both as separate files. To simplify those three different ways of authenticating, there is a special class, called PIDClientCredentials."
   ]
  },
  {
   "cell_type": "code",
   "execution_count": 28,
   "metadata": {},
   "outputs": [],
   "source": [
    "from pyhandle.clientcredentials import PIDClientCredentials\n",
    "cred = PIDClientCredentials(\n",
    "    handle_server_url='https://handle8.dkrz.de',\n",
    "    username='301:10876.test/USERLIST',\n",
    "    private_key='/tmp/dummykeyfile.pem',\n",
    "    certificate_only='/tmp/dummycertfile.pem'\n",
    ")"
   ]
  },
  {
   "cell_type": "markdown",
   "metadata": {},
   "source": [
    "...or, even more simple..."
   ]
  },
  {
   "cell_type": "code",
   "execution_count": 29,
   "metadata": {},
   "outputs": [],
   "source": [
    "cred = PIDClientCredentials.load_from_JSON('/tmp/credentials_workshop.json')\n",
    "client = Client.instantiate_with_credentials(cred)"
   ]
  },
  {
   "cell_type": "markdown",
   "metadata": {},
   "source": [
    "where the path points to a JSON file containing the necessary info, e.g. like this:\n",
    "\n",
    "~~~\n",
    "{\n",
    "    \"handle_server_url\"=\"https://handle8.dkrz.de\",\n",
    "    \"username\": \"index:prefix/suffix\",\n",
    "    \"private_key\"=\"/path/to/private/key/file.pem\",\n",
    "    \"certificate_only\"=\"/path/to/certificate/file.pem\"\n",
    "\n",
    "}\n",
    "~~~\n",
    "\n",
    "The other authentication methods can also be passed as JSON, such as:\n",
    "\n",
    "~~~\n",
    "{\n",
    "    \"handle_server_url\"=\"https://handle8.dkrz.de\",\n",
    "    \"username\": \"index:prefix/suffix\",\n",
    "    \"password\": \"blablabla\"\n",
    "}\n",
    "~~~\n",
    "\n",
    "Or:\n",
    "\n",
    "~~~\n",
    "{\n",
    "    \"handle_server_url\"=\"https://handle8.dkrz.de\",\n",
    "    \"username\": \"index:prefix/suffix\",\n",
    "    \"certificate_and_key\"=\"/path/to/certificate/and/key/file.pem\"\n",
    "}\n",
    "~~~\n",
    "\n",
    "The class PIDClientCredentials reads the JSON file and checks if the necessary information for at least one of these authentication methods are present.\n",
    "\n",
    "(6) Who may modify my handle record? - Authorisation\n",
    "\n",
    "So, can I modify and update any handle, provided that I have a username and password (or key pair)? Obviously not.\n",
    "\n",
    "To modify a handle, two things are necessary:\n",
    "\n",
    "1. The user needs to be given write permission in general by the owner of the prefix (\"Authorisation\").\n",
    "2. The user needs to be given update permissions for the handle record in question.\n",
    "\n",
    "A little introduction to authorisation is in the next section (but will not be looked into deeply, as this mainly concerns Handle Server administrators).\n",
    "\n",
    "Update permissions for specific handles are more important, so let's go.\n",
    "\n",
    "(6) Handle owners\n",
    "==================\n",
    "\n",
    "For every handle, it has to be determined who has the right to update or even delete the handle. In other words, every handle has an \"owner\" (Note that the handle prefix owner always has to rights to change/delete a handle). A handle owner can be one user, or a group of users.\n",
    "\n",
    "The library by default sets the user group \"200:0.NA/prefix\" as the handle owner. In general, the entry with index 200 of the prefix owner handle record points to a group of users containing the handle server administrators. This default can be overwritten by adding a \"handleowner\" to the credentials JSON file. We recommend that users set themselves as the handle owners, or that sensible user groups are defined.\n",
    "\n",
    "~~~\n",
    "{\n",
    "    \"handle_server_url\"=\"https://handle8.dkrz.de\",\n",
    "    \"username\": \"300:10876.test/admin\",\n",
    "    \"password\": \"blablabla\",\n",
    "    \"handleowner\": \"300:10876.test/admin\"\n",
    "}\n",
    "~~~\n",
    "\n",
    "(Info: User groups are defined using entries of type \"HS_VLIST\" - for more details on this, see section on Authorisation or the B2Handle documentation).\n",
    "\n",
    "\n",
    "(7) Advanced: Authorisation [OPTIONAL]\n",
    "======================================\n",
    "\n",
    "This section is presented using slides. This is only a very short summary.\n",
    "\n",
    "For a username and password or client certificate to work, the user needs to be given write permission by the owner of the prefix.\n",
    "\n",
    "This is done using entries of the type \"HS_ADMIN\" and \"HS_VLIST\". The prefix owner can specify a set of permissions in an entry of type \"HS_ADMIN\", in the prefix owner handle (\"0.NA/prefix\"):\n",
    "\n",
    "~~~\n",
    "{\n",
    "    \"index\": 100,\n",
    "    \"type\": \"HS_ADMIN\",\n",
    "    \"data\": {\n",
    "         \"format\": \"admin\",\n",
    "         \"value\": {\n",
    "             \"handle\": \"10876.test/admin\",\n",
    "             \"index: 300,\n",
    "             \"permissions\":\"011111110011\"\n",
    "          }\n",
    "      }\n",
    " }\n",
    " ~~~\n",
    "\n",
    "(This gives a specific set of permissions to our user, 300:10876.test/admin.)\n",
    "\n",
    "Permissions are stored as a string of 12 bits, each of which represents a specific permission that a user/user group can have or not. The prefix owner can grant a set of permissions to one user or to a group of users. To give them to a group of users, he can list these users in an entry of type \"HS_VLIST\".\n",
    "\n",
    "An HS_VLIST can again point to a HS_VLIST, possibly creating a cascading chain of users. This allows for a detailed user management. For more details on this, and for a suggestion of Best Practices, please check the online documentation of the B2Handle library (http://eudat-b2safe.github.io/B2HANDLE/givingpermissiontousers.html).\n",
    "\n",
    "> Task 7: [optional] Retrieve entire record of handle *10876.test/rdapidxyz* as a dictionary, including the HS_ADMIN. Hint: hide_complex_types=False.\n"
   ]
  },
  {
   "cell_type": "markdown",
   "metadata": {},
   "source": [
    "Wrap-Up\n",
    "========\n",
    "\n",
    "## Using pyhandle\n",
    "\n",
    "* Instantiate the client for read-only or for write access\n",
    "* Read-only allows to read the whole record or individual values\n",
    "* Write-access requires access information (credentials) to a Handle Server (at least 8.1)\n",
    "* Credentials can be username+password or username+client certificate\n",
    "* Credentials can be stored in JSON files (use with PIDClientCredentials)\n",
    "\n",
    "\n",
    "## Recommendations\n",
    "\n",
    "* Use client certificates for authentication\n",
    "* Store credentials in JSON file\n",
    "* Set yourself or a group as handle owner\n",
    "\n",
    "\n",
    "\n",
    "## Documentation on ReadTheDocs:\n",
    "\n",
    "Check out B2Handle documentation (and soon pyhandle documentation) for detailed infos!\n",
    "\n",
    "http://eudat-b2safe.github.io/B2HANDLE\n",
    "\n",
    "Detailed instructions for:\n",
    "\n",
    "* Usage of the library\n",
    "* Authenticati\n",
    "* Authorisation / User management\n",
    "* Handle Server administration\n",
    "* Creation of client certificates and key pairs"
   ]
  },
  {
   "cell_type": "markdown",
   "metadata": {},
   "source": []
  }
 ],
 "metadata": {
  "anaconda-cloud": {},
  "kernelspec": {
   "display_name": "Python [conda root]",
   "language": "python",
   "name": "conda-root-py"
  },
  "language_info": {
   "codemirror_mode": {
    "name": "ipython",
    "version": 2
   },
   "file_extension": ".py",
   "mimetype": "text/x-python",
   "name": "python",
   "nbconvert_exporter": "python",
   "pygments_lexer": "ipython2",
   "version": "2.7.12"
  }
 },
 "nbformat": 4,
 "nbformat_minor": 1
}
