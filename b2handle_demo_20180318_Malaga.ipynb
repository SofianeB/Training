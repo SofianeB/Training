{
 "cells": [
  {
   "cell_type": "markdown",
   "metadata": {},
   "source": [
    "Using B2Handle (Demo)\n",
    "=====================\n",
    "\n",
    "Training material for EOSC-HUB week 18-19 April,\n",
    "2018, Malaga.\n",
    "\n",
    "Sofiane Bendoukha, 18th April, 2018\n",
    "\n",
    "What is B2Handle?\n",
    "-----------------\n",
    "\n",
    "The B2Handle Python library is a client library for\n",
    "interaction with a [Handle System](https://handle.net) server, using the native\n",
    "REST interface introduced in Handle System 8. The library offers methods to\n",
    "create, update and delete Handles as well as advanced functionality such as\n",
    "searching over Handles using an additional search servlet and managing multiple\n",
    "location entries per Handle.\n",
    "\n",
    "The library currently supports Python 2.6, 2.7\n",
    "and 3.5, and requires at least a Handle System server 8.1.\n",
    "The library requires\n",
    "OpenSSL v1.0.1 or higher.\n",
    "\n",
    "For this demo, we will use B2Handle 1.1.1.\n",
    "\n",
    "For more information on the methods offered by the library, please consult the\n",
    "[technical documentation](http://eudat-b2safe.github.io/B2HANDLE). The\n",
    "documentation also contains information on how to set up correct certificates\n",
    "for the Handle Server so it accepts modification REST requests and how to set up\n",
    "client authentication using public keys.\n",
    "\n",
    "\n",
    "Link to this Demo\n",
    "-----------------\n",
    "\n",
    "If you want to try this out, use this link:\n",
    "\n",
    "https://bit.ly/2Gk17og\n",
    "\n",
    "(1) Import\n",
    "==========\n",
    "\n",
    "First, we have to import the b2handle library. The\n",
    "library is used by creating a client object and using its methods to interact\n",
    "with the Global Handle System.\n",
    "\n",
    "The object that we are going to interact with is\n",
    "called the `Client`, so let's import it directly."
   ]
  },
  {
   "cell_type": "code",
   "execution_count": null,
   "metadata": {},
   "outputs": [],
   "source": [
    "from b2handle.handleclient import EUDATHandleClient as Client"
   ]
  },
  {
   "cell_type": "markdown",
   "metadata": {},
   "source": [
    "The help() method gives us useful information about its methods."
   ]
  },
  {
   "cell_type": "code",
   "execution_count": null,
   "metadata": {},
   "outputs": [],
   "source": [
    "# help(Client) # Attention, this gives a long result!"
   ]
  },
  {
   "cell_type": "markdown",
   "metadata": {},
   "source": [
    "(2) Resolving handles\n",
    "=================\n",
    "\n",
    "It is easy to resolve a handle and read its handle record\n",
    "using the b2handle library. For this, we instantiate the client in read-mode and\n",
    "use its reading methods.\n",
    "\n",
    "(2.1) Instantiation of the client\n",
    "---------------------------\n",
    "\n",
    "For using the client in read-only mode, no further\n",
    "information is necessary. It works out-of-the-box:"
   ]
  },
  {
   "cell_type": "code",
   "execution_count": null,
   "metadata": {},
   "outputs": [],
   "source": [
    "client = Client.instantiate_for_read_access()"
   ]
  },
  {
   "cell_type": "code",
   "execution_count": null,
   "metadata": {},
   "outputs": [],
   "source": [
    "#from b2handle.handleclient import HandleClient as Client"
   ]
  },
  {
   "cell_type": "markdown",
   "metadata": {},
   "source": [
    "Now we can use its various reading methods, for example\n",
    "`get_value_from_handle(handle)` or `retrieve_handle_record(handle)`.\n",
    "\n",
    "For\n",
    "example, `retrieve_handle_record(handle)` returns a dictionary of the record's\n",
    "entries:"
   ]
  },
  {
   "cell_type": "code",
   "execution_count": null,
   "metadata": {},
   "outputs": [],
   "source": [
    "handle = '21.T14998/TESTHANDLE'\n",
    "record = client.retrieve_handle_record(handle)\n",
    "print(type(record))"
   ]
  },
  {
   "cell_type": "code",
   "execution_count": null,
   "metadata": {},
   "outputs": [],
   "source": [
    "print(record)"
   ]
  },
  {
   "cell_type": "markdown",
   "metadata": {},
   "source": [
    "We can access individual values using:"
   ]
  },
  {
   "cell_type": "code",
   "execution_count": null,
   "metadata": {},
   "outputs": [],
   "source": [
    "value1 = client.get_value_from_handle(handle, 'URL')\n",
    "value2 = client.get_value_from_handle(handle, 'IS_PART_OF')\n",
    "print(value1)\n",
    "print(value2)"
   ]
  },
  {
   "cell_type": "markdown",
   "metadata": {},
   "source": [
    "> Task 2.1a: Instantiate the b2handle client for read-only access.\n",
    "\n",
    "> Task 2.1b:\n",
    "Retrieve entire record of handle *21.T14998/TESTHANDLE* as a dictionary.\n",
    "\n",
    "> Task\n",
    "2.1c: Retrieve a single handle value from the record.\n",
    "\n",
    "\n",
    "(2.2) Decrease server interactions [optional]\n",
    "---------------------------------------------\n",
    "The method `get_value_from_handle()` accesses the Handle Server each time. This\n",
    "is a performance slowdown. To avoid it, it is possible to retrieve the record\n",
    "once and then pass it on to the reading methods.\n",
    "\n",
    "This retrieves the record from\n",
    "the server:"
   ]
  },
  {
   "cell_type": "code",
   "execution_count": null,
   "metadata": {},
   "outputs": [],
   "source": [
    "record_json = client.retrieve_handle_record_json(handle)"
   ]
  },
  {
   "cell_type": "markdown",
   "metadata": {},
   "source": [
    "If you pass it to the reading methods, these do not access the Handle Server\n",
    "anymore:"
   ]
  },
  {
   "cell_type": "code",
   "execution_count": null,
   "metadata": {},
   "outputs": [],
   "source": [
    "print(client.get_value_from_handle(handle, 'CREATION_DATE', record_json))"
   ]
  },
  {
   "cell_type": "markdown",
   "metadata": {},
   "source": [
    "> Task 2.2: Retrieve the handle record as a json object and use the read methods\n",
    "without accessing the Handle Server\n",
    "\n",
    "\n",
    "(3) Registering handles (creating handle records)\n",
    "=================================================\n",
    "\n",
    "In their most simple form, PIDs are simple redirection to a URL. In this case, all they have is an entry\n",
    "that stores the URL. You can simply create such a handle using the method\n",
    "`register_handle()`.\n",
    "\n",
    "In this Demo we are going to create a PID for a file hosted in _figshare_."
   ]
  },
  {
   "cell_type": "code",
   "execution_count": null,
   "metadata": {},
   "outputs": [],
   "source": [
    "prefix = '21.T14998'\n",
    "newhandle = prefix+'/file_handle'\n",
    "url = 'https://ndownloader.figshare.com/files/10793093'\n",
    "client.register_handle(newhandle, url)"
   ]
  },
  {
   "cell_type": "markdown",
   "metadata": {},
   "source": [
    "Ups - that did not work. It tells us *'HandleAuthenticationError: Insufficient\n",
    "permission: No credentials passed. Read access only.'*.\n",
    "\n",
    "\n",
    "(3.1) Write access to a Handle Server\n",
    "-------------------------------\n",
    "\n",
    "For modifying/creating/reading handle records, we first need to authenticate. In\n",
    "this tutorial, we will use a username and a password. (There is other methods,\n",
    "e.g. using client certificates.)"
   ]
  },
  {
   "cell_type": "code",
   "execution_count": null,
   "metadata": {},
   "outputs": [],
   "source": [
    "user = '300:21.T14998/USER_TRAINING'\n",
    "pw = '*password*'"
   ]
  },
  {
   "cell_type": "markdown",
   "metadata": {},
   "source": [
    "Also, we need to specify the URL of a handle server to write to. It is not\n",
    "possible to write to the Global Handle Server. For each prefix, there is only\n",
    "one server with write access."
   ]
  },
  {
   "cell_type": "code",
   "execution_count": null,
   "metadata": {},
   "outputs": [],
   "source": [
    "handle_server_url = 'https://handle.dkrz.de:8004'"
   ]
  },
  {
   "cell_type": "markdown",
   "metadata": {},
   "source": [
    "This server is the write server for the test prefix we are going to use:\n",
    "\n",
    "For providing these necessary configuration values, we can use the following\n",
    "method to create our client object:"
   ]
  },
  {
   "cell_type": "code",
   "execution_count": null,
   "metadata": {},
   "outputs": [],
   "source": [
    "client = Client.instantiate_with_username_and_password(handle_server_url, user, pw, HTTPS_verify=False)"
   ]
  },
  {
   "cell_type": "markdown",
   "metadata": {},
   "source": [
    "> Task 3.1: Instantiate the client for write access, using the above username\n",
    "and password.\n",
    "\n",
    "Alternatively, you can store your username and password in a JSON file:"
   ]
  },
  {
   "cell_type": "code",
   "execution_count": null,
   "metadata": {},
   "outputs": [],
   "source": [
    "from b2handle.clientcredentials import PIDClientCredentials\n",
    "cred = PIDClientCredentials.load_from_JSON('/path/to/JSON/file')\n",
    "\n",
    "client = Client.instantiate_with_credentials(cred)"
   ]
  },
  {
   "cell_type": "markdown",
   "metadata": {},
   "source": [
    "Have a look at your credentials"
   ]
  },
  {
   "cell_type": "code",
   "execution_count": null,
   "metadata": {},
   "outputs": [],
   "source": [
    "cred.get_all_args()"
   ]
  },
  {
   "cell_type": "markdown",
   "metadata": {},
   "source": [
    "(3.2) Let's try again\n",
    "---------------------"
   ]
  },
  {
   "cell_type": "code",
   "execution_count": null,
   "metadata": {},
   "outputs": [],
   "source": [
    "client.register_handle(newhandle, url)"
   ]
  },
  {
   "cell_type": "markdown",
   "metadata": {},
   "source": [
    "If we execute this code a second time - or if another participant of the course\n",
    "has already executed it -, we run into an error: \"HandleAlreadyExistsException\".\n",
    "Of course - that handle record has already been created!\n",
    "\n",
    "If we are really sure we would like to overwrite it, we can specify this:"
   ]
  },
  {
   "cell_type": "code",
   "execution_count": null,
   "metadata": {},
   "outputs": [],
   "source": [
    "client.register_handle(newhandle, url, overwrite=True)"
   ]
  },
  {
   "cell_type": "markdown",
   "metadata": {},
   "source": [
    "(3.3) Best practice\n",
    "-------------------\n",
    "\n",
    "To avoid running into the problem and having to decide whether to overwrite or\n",
    "not, it is always preferrable to use UUIDs as handle suffixes. Using \"speaking\n",
    "names\", i.e. suffixes with semantics, is strongly discouraged.\n",
    "\n",
    "The library provides an easy way to generate such a handle name. In this case, don't forget\n",
    "to store the handle name in a variable for further use."
   ]
  },
  {
   "cell_type": "code",
   "execution_count": null,
   "metadata": {},
   "outputs": [],
   "source": [
    "uuid = client.generate_PID_name(prefix)\n",
    "print(uuid)"
   ]
  },
  {
   "cell_type": "markdown",
   "metadata": {},
   "source": [
    "And it's even easier to generate the name and register the handle at the same\n",
    "time. Again, don't forget to store the name."
   ]
  },
  {
   "cell_type": "code",
   "execution_count": null,
   "metadata": {},
   "outputs": [],
   "source": [
    "newhandle = client.generate_and_register_handle(prefix, url)\n",
    "print(newhandle)"
   ]
  },
  {
   "cell_type": "markdown",
   "metadata": {},
   "source": [
    "We can check the contents of this newly created handle record:"
   ]
  },
  {
   "cell_type": "code",
   "execution_count": null,
   "metadata": {},
   "outputs": [],
   "source": [
    "print(client.retrieve_handle_record(newhandle))"
   ]
  },
  {
   "cell_type": "markdown",
   "metadata": {},
   "source": [
    "> Task 3a: Register a handle with a uuid name and a simple record (containing\n",
    "just a URL).\n",
    "\n",
    "> Task 3b: Add a value to it.\n",
    "\n",
    "> Task 3c: Register a handle with a\n",
    "uuid name and several values at the same time.\n",
    "\n",
    "\n",
    "(4) Updating handle records\n",
    "===========================\n",
    "\n",
    "Now we'd like to modify one of the values of that\n",
    "handle record. The client provides a method for this:\n",
    "`modify_handle_value(handle, ...)`.\n",
    "\n",
    "\n",
    "- ***adding new values (create some Metadata)***\n",
    "\n",
    "Let's try it - let's add the creation date and file type to the Handle record."
   ]
  },
  {
   "cell_type": "code",
   "execution_count": null,
   "metadata": {},
   "outputs": [],
   "source": [
    "client.modify_handle_value(newhandle, CREATION_DATE='2018-04-18')"
   ]
  },
  {
   "cell_type": "code",
   "execution_count": null,
   "metadata": {},
   "outputs": [],
   "source": [
    "client.modify_handle_value(newhandle, TYPE='file')\n",
    "print(client.retrieve_handle_record(newhandle))"
   ]
  },
  {
   "cell_type": "markdown",
   "metadata": {},
   "source": [
    "To prevent adding new values (for example in case of typos) we can set a flag:"
   ]
  },
  {
   "cell_type": "code",
   "execution_count": null,
   "metadata": {},
   "outputs": [],
   "source": [
    "client.modify_handle_value(newhandle, STATUS='published', add_if_not_exist=False)\n",
    "print(client.retrieve_handle_record(newhandle))"
   ]
  },
  {
   "cell_type": "markdown",
   "metadata": {},
   "source": [
    "- ***deleting values***\n",
    "\n",
    "In case we did not set the flag and accidently wrote a wrong entry, the _delete_handle_value()_\n",
    "methos allows to delete that entry:"
   ]
  },
  {
   "cell_type": "code",
   "execution_count": null,
   "metadata": {},
   "outputs": [],
   "source": [
    "client.modify_handle_value(newhandle, RCEATION_DATE='18-04-2018')\n",
    "print('added wrong value:')\n",
    "print(client.get_value_from_handle(newhandle, 'RCEATION_DATE'))"
   ]
  },
  {
   "cell_type": "code",
   "execution_count": null,
   "metadata": {},
   "outputs": [],
   "source": [
    "client.delete_handle_value(newhandle, 'RCEATION_DATE')\n",
    "print('deleted wrong value')\n",
    "print(client.get_value_from_handle(newhandle, 'RCEATION_DATE'))"
   ]
  },
  {
   "cell_type": "markdown",
   "metadata": {},
   "source": [
    "> Task 4a: Modify an existing handle value in your test handle\n",
    "`newhandle`.\n",
    "\n",
    "> Task 4b:\n",
    "Attempt to modify handle value that does not exist yet and prevent the library\n",
    "from creating it.\n",
    "\n",
    "> Task 4c: Add a handle value to the handle record.\n",
    "\n",
    "> Task\n",
    "4d: Add several new handle values to the handle record at the same time (with\n",
    "one command).\n",
    "\n",
    "> Task 5e: Delete one of the handle values previously added.\n",
    "\n",
    "- ***modify existing values***\n",
    "\n",
    "Now we can try to modify again:"
   ]
  },
  {
   "cell_type": "code",
   "execution_count": null,
   "metadata": {},
   "outputs": [],
   "source": [
    "client.modify_handle_value(newhandle, TYPE='figure')"
   ]
  },
  {
   "cell_type": "markdown",
   "metadata": {},
   "source": [
    "Let's check again if it worked!"
   ]
  },
  {
   "cell_type": "code",
   "execution_count": null,
   "metadata": {},
   "outputs": [],
   "source": [
    "print(client.get_value_from_handle(newhandle, 'TYPE'))"
   ]
  },
  {
   "cell_type": "markdown",
   "metadata": {},
   "source": [
    "- ***Download file by PID***\n",
    "\n",
    "In ipython normal shell commands can  be executed with !in front of the command"
   ]
  },
  {
   "cell_type": "code",
   "execution_count": null,
   "metadata": {
    "attributes": {
     "classes": [
      "commandline"
     ],
     "id": ""
    }
   },
   "outputs": [],
   "source": [
    "newhandle\n",
    "!wget http://hdl.handle.net/<newhandle>"
   ]
  },
  {
   "cell_type": "markdown",
   "metadata": {},
   "source": [
    "(5) Create a PID for the local file\n",
    "===================================\n",
    "\n",
    "We will create now a PID for the locally downloaded file."
   ]
  },
  {
   "cell_type": "code",
   "execution_count": null,
   "metadata": {},
   "outputs": [],
   "source": [
    "location = '/path/to/file'\n",
    "HandleLocal = client.generate_and_register_handle(prefix, location)"
   ]
  },
  {
   "cell_type": "markdown",
   "metadata": {},
   "source": [
    "## (5.1) Link the two files on PID level"
   ]
  },
  {
   "cell_type": "code",
   "execution_count": null,
   "metadata": {},
   "outputs": [],
   "source": [
    "client.modify_handle_value(newhandle, REPLICA=HandleLocal)\n",
    "client.modify_handle_value(HandleLocal, ORIGINAL=newhandle)"
   ]
  },
  {
   "cell_type": "markdown",
   "metadata": {},
   "source": [
    "## (5.2) Move data and update PID\n",
    "\n",
    "The linux file name of our local name is pretty ugly and we want to rename it. What would be the workflow to do so without breaking the PID linking?\n",
    "\n",
    "* First we create a copy of the respective file under the new shiny name:\n",
    " ```commandline\n",
    " cp /file/name DKRZlogo.png\n",
    " ```\n",
    "\n",
    "* Then we need to redirect the PID pointing to the local file and set the field URL to the new path:"
   ]
  },
  {
   "cell_type": "code",
   "execution_count": null,
   "metadata": {},
   "outputs": [],
   "source": [
    "client.modify_handle_value(HandleLocal, ttl=None, add_if_not_exist=True, URL='/path/to/DKRZlogo.png')"
   ]
  },
  {
   "cell_type": "markdown",
   "metadata": {},
   "source": [
    "* Now we can safely remove the old file"
   ]
  },
  {
   "cell_type": "code",
   "execution_count": null,
   "metadata": {},
   "outputs": [],
   "source": [
    "!rm <newhandle>"
   ]
  },
  {
   "cell_type": "markdown",
   "metadata": {},
   "source": [
    "Wrap-Up\n",
    "========\n",
    "\n",
    "## Using b2handle\n",
    "\n",
    "* Instantiate the client for read-only or\n",
    "for write access\n",
    "* Read-only allows to read the whole record or individual\n",
    "values\n",
    "* Write-access requires access information (credentials) to a Handle\n",
    "Server (at least 8.1)\n",
    "* Credentials can be username+password or username+client\n",
    "certificate\n",
    "* Credentials can be stored in JSON files (use with\n",
    "PIDClientCredentials)\n",
    "\n",
    "\n",
    "## Recommendations\n",
    "\n",
    "* Use client certificates for authentication\n",
    "* Store credentials in JSON file\n",
    "* Set yourself or a group as handle owner\n",
    "\n",
    "\n",
    "## Documentation on ReadTheDocs:\n",
    "\n",
    "Check out B2Handle documentation for detailed infos!\n",
    "http://eudat-b2safe.github.io/B2HANDLE\n",
    "\n",
    "Detailed instructions for:\n",
    "\n",
    "* Usage of the library\n",
    "* Authentication\n",
    "* Authorisation / User management\n",
    "* Handle Server administration\n",
    "* Creation of client certificates and key pairs"
   ]
  }
 ],
 "metadata": {},
 "nbformat": 4,
 "nbformat_minor": 0
}
